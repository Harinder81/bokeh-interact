{
 "cells": [
  {
   "cell_type": "code",
   "execution_count": 2,
   "id": "4d60e88e",
   "metadata": {},
   "outputs": [],
   "source": [
    "import numpy as np\n",
    "\n",
    "from bokeh.layouts import column, row\n",
    "from bokeh.models import ColumnDataSource, CustomJS, Slider\n",
    "from bokeh.plotting import figure, show\n",
    "from bokeh.io import output_file, output_notebook\n",
    "\n",
    "output_file('index.html')\n",
    "\n",
    "x = np.linspace(0, 10, 500)\n",
    "y = np.sin(x)\n",
    "\n",
    "source = ColumnDataSource(data=dict(x=x, y=y))\n",
    "\n",
    "plot = figure(y_range=(-10, 10), width=400, height=400)\n",
    "\n",
    "plot.line('x', 'y', source=source, line_width=3, line_alpha=0.6)\n",
    "\n",
    "amp = Slider(start=0.1, end=10, value=1, step=.1, title=\"Amplitude\")\n",
    "freq = Slider(start=0.1, end=10, value=1, step=.1, title=\"Frequency\")\n",
    "phase = Slider(start=-6.4, end=6.4, value=0, step=.1, title=\"Phase\")\n",
    "offset = Slider(start=-9, end=9, value=0, step=.1, title=\"Offset\")\n",
    "\n",
    "callback = CustomJS(args=dict(source=source, amp=amp, freq=freq, phase=phase, offset=offset),\n",
    "                    code=\"\"\"\n",
    "    const A = amp.value\n",
    "    const k = freq.value\n",
    "    const phi = phase.value\n",
    "    const B = offset.value\n",
    "\n",
    "    const x = source.data.x\n",
    "    const y = Array.from(x, (x) => B + A*Math.sin(k*x+phi))\n",
    "    source.data = { x, y }\n",
    "\"\"\")\n",
    "\n",
    "amp.js_on_change('value', callback)\n",
    "freq.js_on_change('value', callback)\n",
    "phase.js_on_change('value', callback)\n",
    "offset.js_on_change('value', callback)\n",
    "\n",
    "show(row(plot, column(amp, freq, phase, offset)))"
   ]
  },
  {
   "cell_type": "code",
   "execution_count": null,
   "id": "bae815e9",
   "metadata": {},
   "outputs": [],
   "source": []
  }
 ],
 "metadata": {
  "kernelspec": {
   "display_name": "Python 3",
   "language": "python",
   "name": "python3"
  },
  "language_info": {
   "codemirror_mode": {
    "name": "ipython",
    "version": 3
   },
   "file_extension": ".py",
   "mimetype": "text/x-python",
   "name": "python",
   "nbconvert_exporter": "python",
   "pygments_lexer": "ipython3",
   "version": "3.8.10"
  }
 },
 "nbformat": 4,
 "nbformat_minor": 5
}
